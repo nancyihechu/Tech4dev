{
 "cells": [
  {
   "cell_type": "markdown",
   "id": "f08ac788",
   "metadata": {},
   "source": [
    "## Import libraries and Dataset"
   ]
  },
  {
   "cell_type": "code",
   "execution_count": 1,
   "id": "9fa3699f",
   "metadata": {},
   "outputs": [
    {
     "name": "stdout",
     "output_type": "stream",
     "text": [
      "Setup Complete\n"
     ]
    }
   ],
   "source": [
    "import pandas as pd\n",
    "import numpy as np\n",
    "pd.plotting.register_matplotlib_converters()\n",
    "import matplotlib.pyplot as plt\n",
    "%matplotlib inline\n",
    "import seaborn as sns\n",
    "print(\"Setup Complete\")"
   ]
  },
  {
   "cell_type": "code",
   "execution_count": 2,
   "id": "412f0349",
   "metadata": {},
   "outputs": [],
   "source": [
    "#importing the datetime module\n",
    "import datetime as dt\n",
    "from datetime import datetime"
   ]
  },
  {
   "cell_type": "code",
   "execution_count": 3,
   "id": "5f7ef975",
   "metadata": {},
   "outputs": [],
   "source": [
    "#reading the dataset\n",
    "df = pd.read_csv('spotify.csv')"
   ]
  },
  {
   "cell_type": "markdown",
   "id": "b9624843",
   "metadata": {},
   "source": [
    "## Access Dataset"
   ]
  },
  {
   "cell_type": "code",
   "execution_count": 4,
   "id": "5c741114",
   "metadata": {
    "scrolled": true
   },
   "outputs": [
    {
     "data": {
      "text/html": [
       "<div>\n",
       "<style scoped>\n",
       "    .dataframe tbody tr th:only-of-type {\n",
       "        vertical-align: middle;\n",
       "    }\n",
       "\n",
       "    .dataframe tbody tr th {\n",
       "        vertical-align: top;\n",
       "    }\n",
       "\n",
       "    .dataframe thead th {\n",
       "        text-align: right;\n",
       "    }\n",
       "</style>\n",
       "<table border=\"1\" class=\"dataframe\">\n",
       "  <thead>\n",
       "    <tr style=\"text-align: right;\">\n",
       "      <th></th>\n",
       "      <th>Date</th>\n",
       "      <th>Shape of You</th>\n",
       "      <th>Despacito</th>\n",
       "      <th>Something Just Like This</th>\n",
       "      <th>HUMBLE.</th>\n",
       "      <th>Unforgettable</th>\n",
       "    </tr>\n",
       "  </thead>\n",
       "  <tbody>\n",
       "    <tr>\n",
       "      <th>0</th>\n",
       "      <td>2017-01-06</td>\n",
       "      <td>12287078</td>\n",
       "      <td>NaN</td>\n",
       "      <td>NaN</td>\n",
       "      <td>NaN</td>\n",
       "      <td>NaN</td>\n",
       "    </tr>\n",
       "    <tr>\n",
       "      <th>1</th>\n",
       "      <td>2017-01-07</td>\n",
       "      <td>13190270</td>\n",
       "      <td>NaN</td>\n",
       "      <td>NaN</td>\n",
       "      <td>NaN</td>\n",
       "      <td>NaN</td>\n",
       "    </tr>\n",
       "    <tr>\n",
       "      <th>2</th>\n",
       "      <td>2017-01-08</td>\n",
       "      <td>13099919</td>\n",
       "      <td>NaN</td>\n",
       "      <td>NaN</td>\n",
       "      <td>NaN</td>\n",
       "      <td>NaN</td>\n",
       "    </tr>\n",
       "    <tr>\n",
       "      <th>3</th>\n",
       "      <td>2017-01-09</td>\n",
       "      <td>14506351</td>\n",
       "      <td>NaN</td>\n",
       "      <td>NaN</td>\n",
       "      <td>NaN</td>\n",
       "      <td>NaN</td>\n",
       "    </tr>\n",
       "    <tr>\n",
       "      <th>4</th>\n",
       "      <td>2017-01-10</td>\n",
       "      <td>14275628</td>\n",
       "      <td>NaN</td>\n",
       "      <td>NaN</td>\n",
       "      <td>NaN</td>\n",
       "      <td>NaN</td>\n",
       "    </tr>\n",
       "    <tr>\n",
       "      <th>...</th>\n",
       "      <td>...</td>\n",
       "      <td>...</td>\n",
       "      <td>...</td>\n",
       "      <td>...</td>\n",
       "      <td>...</td>\n",
       "      <td>...</td>\n",
       "    </tr>\n",
       "    <tr>\n",
       "      <th>361</th>\n",
       "      <td>2018-01-05</td>\n",
       "      <td>4492978</td>\n",
       "      <td>3450315.0</td>\n",
       "      <td>2408365.0</td>\n",
       "      <td>2685857.0</td>\n",
       "      <td>2869783.0</td>\n",
       "    </tr>\n",
       "    <tr>\n",
       "      <th>362</th>\n",
       "      <td>2018-01-06</td>\n",
       "      <td>4416476</td>\n",
       "      <td>3394284.0</td>\n",
       "      <td>2188035.0</td>\n",
       "      <td>2559044.0</td>\n",
       "      <td>2743748.0</td>\n",
       "    </tr>\n",
       "    <tr>\n",
       "      <th>363</th>\n",
       "      <td>2018-01-07</td>\n",
       "      <td>4009104</td>\n",
       "      <td>3020789.0</td>\n",
       "      <td>1908129.0</td>\n",
       "      <td>2350985.0</td>\n",
       "      <td>2441045.0</td>\n",
       "    </tr>\n",
       "    <tr>\n",
       "      <th>364</th>\n",
       "      <td>2018-01-08</td>\n",
       "      <td>4135505</td>\n",
       "      <td>2755266.0</td>\n",
       "      <td>2023251.0</td>\n",
       "      <td>2523265.0</td>\n",
       "      <td>2622693.0</td>\n",
       "    </tr>\n",
       "    <tr>\n",
       "      <th>365</th>\n",
       "      <td>2018-01-09</td>\n",
       "      <td>4168506</td>\n",
       "      <td>2791601.0</td>\n",
       "      <td>2058016.0</td>\n",
       "      <td>2727678.0</td>\n",
       "      <td>2627334.0</td>\n",
       "    </tr>\n",
       "  </tbody>\n",
       "</table>\n",
       "<p>366 rows × 6 columns</p>\n",
       "</div>"
      ],
      "text/plain": [
       "           Date  Shape of You  Despacito  Something Just Like This    HUMBLE.  \\\n",
       "0    2017-01-06      12287078        NaN                       NaN        NaN   \n",
       "1    2017-01-07      13190270        NaN                       NaN        NaN   \n",
       "2    2017-01-08      13099919        NaN                       NaN        NaN   \n",
       "3    2017-01-09      14506351        NaN                       NaN        NaN   \n",
       "4    2017-01-10      14275628        NaN                       NaN        NaN   \n",
       "..          ...           ...        ...                       ...        ...   \n",
       "361  2018-01-05       4492978  3450315.0                 2408365.0  2685857.0   \n",
       "362  2018-01-06       4416476  3394284.0                 2188035.0  2559044.0   \n",
       "363  2018-01-07       4009104  3020789.0                 1908129.0  2350985.0   \n",
       "364  2018-01-08       4135505  2755266.0                 2023251.0  2523265.0   \n",
       "365  2018-01-09       4168506  2791601.0                 2058016.0  2727678.0   \n",
       "\n",
       "     Unforgettable  \n",
       "0              NaN  \n",
       "1              NaN  \n",
       "2              NaN  \n",
       "3              NaN  \n",
       "4              NaN  \n",
       "..             ...  \n",
       "361      2869783.0  \n",
       "362      2743748.0  \n",
       "363      2441045.0  \n",
       "364      2622693.0  \n",
       "365      2627334.0  \n",
       "\n",
       "[366 rows x 6 columns]"
      ]
     },
     "execution_count": 4,
     "metadata": {},
     "output_type": "execute_result"
    }
   ],
   "source": [
    "#looking at the collapsed version of the dataset\n",
    "df"
   ]
  },
  {
   "cell_type": "code",
   "execution_count": 5,
   "id": "26db5890",
   "metadata": {},
   "outputs": [
    {
     "data": {
      "text/html": [
       "<div>\n",
       "<style scoped>\n",
       "    .dataframe tbody tr th:only-of-type {\n",
       "        vertical-align: middle;\n",
       "    }\n",
       "\n",
       "    .dataframe tbody tr th {\n",
       "        vertical-align: top;\n",
       "    }\n",
       "\n",
       "    .dataframe thead th {\n",
       "        text-align: right;\n",
       "    }\n",
       "</style>\n",
       "<table border=\"1\" class=\"dataframe\">\n",
       "  <thead>\n",
       "    <tr style=\"text-align: right;\">\n",
       "      <th></th>\n",
       "      <th>Date</th>\n",
       "      <th>Shape of You</th>\n",
       "      <th>Despacito</th>\n",
       "      <th>Something Just Like This</th>\n",
       "      <th>HUMBLE.</th>\n",
       "      <th>Unforgettable</th>\n",
       "    </tr>\n",
       "  </thead>\n",
       "  <tbody>\n",
       "    <tr>\n",
       "      <th>361</th>\n",
       "      <td>2018-01-05</td>\n",
       "      <td>4492978</td>\n",
       "      <td>3450315.0</td>\n",
       "      <td>2408365.0</td>\n",
       "      <td>2685857.0</td>\n",
       "      <td>2869783.0</td>\n",
       "    </tr>\n",
       "    <tr>\n",
       "      <th>362</th>\n",
       "      <td>2018-01-06</td>\n",
       "      <td>4416476</td>\n",
       "      <td>3394284.0</td>\n",
       "      <td>2188035.0</td>\n",
       "      <td>2559044.0</td>\n",
       "      <td>2743748.0</td>\n",
       "    </tr>\n",
       "    <tr>\n",
       "      <th>363</th>\n",
       "      <td>2018-01-07</td>\n",
       "      <td>4009104</td>\n",
       "      <td>3020789.0</td>\n",
       "      <td>1908129.0</td>\n",
       "      <td>2350985.0</td>\n",
       "      <td>2441045.0</td>\n",
       "    </tr>\n",
       "    <tr>\n",
       "      <th>364</th>\n",
       "      <td>2018-01-08</td>\n",
       "      <td>4135505</td>\n",
       "      <td>2755266.0</td>\n",
       "      <td>2023251.0</td>\n",
       "      <td>2523265.0</td>\n",
       "      <td>2622693.0</td>\n",
       "    </tr>\n",
       "    <tr>\n",
       "      <th>365</th>\n",
       "      <td>2018-01-09</td>\n",
       "      <td>4168506</td>\n",
       "      <td>2791601.0</td>\n",
       "      <td>2058016.0</td>\n",
       "      <td>2727678.0</td>\n",
       "      <td>2627334.0</td>\n",
       "    </tr>\n",
       "  </tbody>\n",
       "</table>\n",
       "</div>"
      ],
      "text/plain": [
       "           Date  Shape of You  Despacito  Something Just Like This    HUMBLE.  \\\n",
       "361  2018-01-05       4492978  3450315.0                 2408365.0  2685857.0   \n",
       "362  2018-01-06       4416476  3394284.0                 2188035.0  2559044.0   \n",
       "363  2018-01-07       4009104  3020789.0                 1908129.0  2350985.0   \n",
       "364  2018-01-08       4135505  2755266.0                 2023251.0  2523265.0   \n",
       "365  2018-01-09       4168506  2791601.0                 2058016.0  2727678.0   \n",
       "\n",
       "     Unforgettable  \n",
       "361      2869783.0  \n",
       "362      2743748.0  \n",
       "363      2441045.0  \n",
       "364      2622693.0  \n",
       "365      2627334.0  "
      ]
     },
     "execution_count": 5,
     "metadata": {},
     "output_type": "execute_result"
    }
   ],
   "source": [
    "#looking at the tail of the dataset\n",
    "df.tail()"
   ]
  },
  {
   "cell_type": "code",
   "execution_count": 6,
   "id": "6d8868bf",
   "metadata": {},
   "outputs": [
    {
     "name": "stdout",
     "output_type": "stream",
     "text": [
      "<class 'pandas.core.frame.DataFrame'>\n",
      "RangeIndex: 366 entries, 0 to 365\n",
      "Data columns (total 6 columns):\n",
      " #   Column                    Non-Null Count  Dtype  \n",
      "---  ------                    --------------  -----  \n",
      " 0   Date                      366 non-null    object \n",
      " 1   Shape of You              366 non-null    int64  \n",
      " 2   Despacito                 359 non-null    float64\n",
      " 3   Something Just Like This  319 non-null    float64\n",
      " 4   HUMBLE.                   282 non-null    float64\n",
      " 5   Unforgettable             275 non-null    float64\n",
      "dtypes: float64(4), int64(1), object(1)\n",
      "memory usage: 17.3+ KB\n"
     ]
    }
   ],
   "source": [
    "#looking at the datatypes, no. of NaN values\n",
    "df.info()"
   ]
  },
  {
   "cell_type": "markdown",
   "id": "1635ee28",
   "metadata": {},
   "source": [
    "### Conclusion from looking at the data, suggestions for cleaning\n",
    "* The date column is a object data type and needs to converted to datetime\n",
    "* The columns of shape of You,\tDespacito,\tSomething Just Like This,\tHUMBLE,\tUnforgettable, should all be in lower case with underscore seperating spaces for easy analysis\n",
    "* Nan values in this dataset could suggest that the song has not yet been released as at that  date, so we could change that to zero\n",
    "* The columns of shape of You,\tDespacito,\tSomething Just Like This,\tHUMBLE,\tUnforgettable, seem to sugests the number of likes on spotify and should all have int format\n"
   ]
  },
  {
   "cell_type": "markdown",
   "id": "edef17ae",
   "metadata": {},
   "source": [
    "## Cleaning"
   ]
  },
  {
   "cell_type": "markdown",
   "id": "27af65fb",
   "metadata": {},
   "source": [
    "#### Define\n",
    "The date column is a object data type and needs to converted to datetime"
   ]
  },
  {
   "cell_type": "markdown",
   "id": "f99dbb1f",
   "metadata": {},
   "source": [
    "#### clean"
   ]
  },
  {
   "cell_type": "code",
   "execution_count": 7,
   "id": "9f7bf29c",
   "metadata": {},
   "outputs": [],
   "source": [
    "df['Date']= pd.to_datetime(df['Date'])"
   ]
  },
  {
   "cell_type": "markdown",
   "id": "7d3126ed",
   "metadata": {},
   "source": [
    "#### Access"
   ]
  },
  {
   "cell_type": "code",
   "execution_count": 8,
   "id": "62fc8dfd",
   "metadata": {
    "scrolled": true
   },
   "outputs": [
    {
     "name": "stdout",
     "output_type": "stream",
     "text": [
      "<class 'pandas.core.frame.DataFrame'>\n",
      "RangeIndex: 366 entries, 0 to 365\n",
      "Data columns (total 6 columns):\n",
      " #   Column                    Non-Null Count  Dtype         \n",
      "---  ------                    --------------  -----         \n",
      " 0   Date                      366 non-null    datetime64[ns]\n",
      " 1   Shape of You              366 non-null    int64         \n",
      " 2   Despacito                 359 non-null    float64       \n",
      " 3   Something Just Like This  319 non-null    float64       \n",
      " 4   HUMBLE.                   282 non-null    float64       \n",
      " 5   Unforgettable             275 non-null    float64       \n",
      "dtypes: datetime64[ns](1), float64(4), int64(1)\n",
      "memory usage: 17.3 KB\n"
     ]
    }
   ],
   "source": [
    "#Date columns are converted to datetime\n",
    "df.info()"
   ]
  },
  {
   "cell_type": "markdown",
   "id": "7ad19496",
   "metadata": {},
   "source": [
    "#### Define\n",
    "convert columns to lower case,with underscore seperating spaces for easy analysis"
   ]
  },
  {
   "cell_type": "markdown",
   "id": "8fa3961f",
   "metadata": {},
   "source": [
    "#### Clean"
   ]
  },
  {
   "cell_type": "code",
   "execution_count": 9,
   "id": "cd300626",
   "metadata": {},
   "outputs": [
    {
     "data": {
      "text/plain": [
       "Index(['date', 'shape_of_you', 'despacito', 'something_just_like_this',\n",
       "       'humble.', 'unforgettable'],\n",
       "      dtype='object')"
      ]
     },
     "execution_count": 9,
     "metadata": {},
     "output_type": "execute_result"
    }
   ],
   "source": [
    "df.columns= df.columns.str.replace(' ','_').str.lower()\n",
    "df.columns"
   ]
  },
  {
   "cell_type": "code",
   "execution_count": 10,
   "id": "4f4f7ae3",
   "metadata": {},
   "outputs": [],
   "source": [
    "#remove the fullstp from humble column\n",
    "df.rename(columns = {'humble.':'humble'}, inplace = True)"
   ]
  },
  {
   "cell_type": "markdown",
   "id": "3bc7b99e",
   "metadata": {},
   "source": [
    "#### Access"
   ]
  },
  {
   "cell_type": "code",
   "execution_count": 11,
   "id": "705de420",
   "metadata": {
    "scrolled": true
   },
   "outputs": [
    {
     "name": "stdout",
     "output_type": "stream",
     "text": [
      "<class 'pandas.core.frame.DataFrame'>\n",
      "RangeIndex: 366 entries, 0 to 365\n",
      "Data columns (total 6 columns):\n",
      " #   Column                    Non-Null Count  Dtype         \n",
      "---  ------                    --------------  -----         \n",
      " 0   date                      366 non-null    datetime64[ns]\n",
      " 1   shape_of_you              366 non-null    int64         \n",
      " 2   despacito                 359 non-null    float64       \n",
      " 3   something_just_like_this  319 non-null    float64       \n",
      " 4   humble                    282 non-null    float64       \n",
      " 5   unforgettable             275 non-null    float64       \n",
      "dtypes: datetime64[ns](1), float64(4), int64(1)\n",
      "memory usage: 17.3 KB\n"
     ]
    }
   ],
   "source": [
    "df.info()"
   ]
  },
  {
   "cell_type": "markdown",
   "id": "1a2394d0",
   "metadata": {},
   "source": [
    "#### Define\n",
    "Covert all NaN to zero as they may suggest that the song hasn't been relesed at the stated date"
   ]
  },
  {
   "cell_type": "markdown",
   "id": "00b5d082",
   "metadata": {},
   "source": [
    "#### Clean"
   ]
  },
  {
   "cell_type": "code",
   "execution_count": 12,
   "id": "290fbc7f",
   "metadata": {},
   "outputs": [],
   "source": [
    "df = df.fillna(0)"
   ]
  },
  {
   "cell_type": "markdown",
   "id": "7d1dea4e",
   "metadata": {},
   "source": [
    "#### Access"
   ]
  },
  {
   "cell_type": "code",
   "execution_count": 13,
   "id": "c739fe17",
   "metadata": {},
   "outputs": [
    {
     "name": "stdout",
     "output_type": "stream",
     "text": [
      "<class 'pandas.core.frame.DataFrame'>\n",
      "RangeIndex: 366 entries, 0 to 365\n",
      "Data columns (total 6 columns):\n",
      " #   Column                    Non-Null Count  Dtype         \n",
      "---  ------                    --------------  -----         \n",
      " 0   date                      366 non-null    datetime64[ns]\n",
      " 1   shape_of_you              366 non-null    int64         \n",
      " 2   despacito                 366 non-null    float64       \n",
      " 3   something_just_like_this  366 non-null    float64       \n",
      " 4   humble                    366 non-null    float64       \n",
      " 5   unforgettable             366 non-null    float64       \n",
      "dtypes: datetime64[ns](1), float64(4), int64(1)\n",
      "memory usage: 17.3 KB\n"
     ]
    }
   ],
   "source": [
    "df.info()"
   ]
  },
  {
   "cell_type": "markdown",
   "id": "958ca84a",
   "metadata": {},
   "source": [
    "#### Define\n",
    "convert columns in float format to int format"
   ]
  },
  {
   "cell_type": "markdown",
   "id": "2886f8a1",
   "metadata": {},
   "source": [
    "#### clean"
   ]
  },
  {
   "cell_type": "code",
   "execution_count": 14,
   "id": "3e73bdfe",
   "metadata": {},
   "outputs": [],
   "source": [
    "\n",
    "df[['despacito','something_just_like_this','humble','unforgettable']] = df[['despacito','something_just_like_this','humble','unforgettable']].astype(int)"
   ]
  },
  {
   "cell_type": "markdown",
   "id": "15e7d5cb",
   "metadata": {},
   "source": [
    "#### Access"
   ]
  },
  {
   "cell_type": "code",
   "execution_count": 15,
   "id": "4822a006",
   "metadata": {
    "scrolled": true
   },
   "outputs": [
    {
     "data": {
      "text/html": [
       "<div>\n",
       "<style scoped>\n",
       "    .dataframe tbody tr th:only-of-type {\n",
       "        vertical-align: middle;\n",
       "    }\n",
       "\n",
       "    .dataframe tbody tr th {\n",
       "        vertical-align: top;\n",
       "    }\n",
       "\n",
       "    .dataframe thead th {\n",
       "        text-align: right;\n",
       "    }\n",
       "</style>\n",
       "<table border=\"1\" class=\"dataframe\">\n",
       "  <thead>\n",
       "    <tr style=\"text-align: right;\">\n",
       "      <th></th>\n",
       "      <th>date</th>\n",
       "      <th>shape_of_you</th>\n",
       "      <th>despacito</th>\n",
       "      <th>something_just_like_this</th>\n",
       "      <th>humble</th>\n",
       "      <th>unforgettable</th>\n",
       "    </tr>\n",
       "  </thead>\n",
       "  <tbody>\n",
       "    <tr>\n",
       "      <th>0</th>\n",
       "      <td>2017-01-06</td>\n",
       "      <td>12287078</td>\n",
       "      <td>0</td>\n",
       "      <td>0</td>\n",
       "      <td>0</td>\n",
       "      <td>0</td>\n",
       "    </tr>\n",
       "    <tr>\n",
       "      <th>1</th>\n",
       "      <td>2017-01-07</td>\n",
       "      <td>13190270</td>\n",
       "      <td>0</td>\n",
       "      <td>0</td>\n",
       "      <td>0</td>\n",
       "      <td>0</td>\n",
       "    </tr>\n",
       "    <tr>\n",
       "      <th>2</th>\n",
       "      <td>2017-01-08</td>\n",
       "      <td>13099919</td>\n",
       "      <td>0</td>\n",
       "      <td>0</td>\n",
       "      <td>0</td>\n",
       "      <td>0</td>\n",
       "    </tr>\n",
       "    <tr>\n",
       "      <th>3</th>\n",
       "      <td>2017-01-09</td>\n",
       "      <td>14506351</td>\n",
       "      <td>0</td>\n",
       "      <td>0</td>\n",
       "      <td>0</td>\n",
       "      <td>0</td>\n",
       "    </tr>\n",
       "    <tr>\n",
       "      <th>4</th>\n",
       "      <td>2017-01-10</td>\n",
       "      <td>14275628</td>\n",
       "      <td>0</td>\n",
       "      <td>0</td>\n",
       "      <td>0</td>\n",
       "      <td>0</td>\n",
       "    </tr>\n",
       "  </tbody>\n",
       "</table>\n",
       "</div>"
      ],
      "text/plain": [
       "        date  shape_of_you  despacito  something_just_like_this  humble  \\\n",
       "0 2017-01-06      12287078          0                         0       0   \n",
       "1 2017-01-07      13190270          0                         0       0   \n",
       "2 2017-01-08      13099919          0                         0       0   \n",
       "3 2017-01-09      14506351          0                         0       0   \n",
       "4 2017-01-10      14275628          0                         0       0   \n",
       "\n",
       "   unforgettable  \n",
       "0              0  \n",
       "1              0  \n",
       "2              0  \n",
       "3              0  \n",
       "4              0  "
      ]
     },
     "execution_count": 15,
     "metadata": {},
     "output_type": "execute_result"
    }
   ],
   "source": [
    "df.head()"
   ]
  },
  {
   "cell_type": "code",
   "execution_count": 16,
   "id": "65d4ccdf",
   "metadata": {},
   "outputs": [
    {
     "data": {
      "text/html": [
       "<div>\n",
       "<style scoped>\n",
       "    .dataframe tbody tr th:only-of-type {\n",
       "        vertical-align: middle;\n",
       "    }\n",
       "\n",
       "    .dataframe tbody tr th {\n",
       "        vertical-align: top;\n",
       "    }\n",
       "\n",
       "    .dataframe thead th {\n",
       "        text-align: right;\n",
       "    }\n",
       "</style>\n",
       "<table border=\"1\" class=\"dataframe\">\n",
       "  <thead>\n",
       "    <tr style=\"text-align: right;\">\n",
       "      <th></th>\n",
       "      <th>date</th>\n",
       "      <th>shape_of_you</th>\n",
       "      <th>despacito</th>\n",
       "      <th>something_just_like_this</th>\n",
       "      <th>humble</th>\n",
       "      <th>unforgettable</th>\n",
       "    </tr>\n",
       "  </thead>\n",
       "  <tbody>\n",
       "    <tr>\n",
       "      <th>361</th>\n",
       "      <td>2018-01-05</td>\n",
       "      <td>4492978</td>\n",
       "      <td>3450315</td>\n",
       "      <td>2408365</td>\n",
       "      <td>2685857</td>\n",
       "      <td>2869783</td>\n",
       "    </tr>\n",
       "    <tr>\n",
       "      <th>362</th>\n",
       "      <td>2018-01-06</td>\n",
       "      <td>4416476</td>\n",
       "      <td>3394284</td>\n",
       "      <td>2188035</td>\n",
       "      <td>2559044</td>\n",
       "      <td>2743748</td>\n",
       "    </tr>\n",
       "    <tr>\n",
       "      <th>363</th>\n",
       "      <td>2018-01-07</td>\n",
       "      <td>4009104</td>\n",
       "      <td>3020789</td>\n",
       "      <td>1908129</td>\n",
       "      <td>2350985</td>\n",
       "      <td>2441045</td>\n",
       "    </tr>\n",
       "    <tr>\n",
       "      <th>364</th>\n",
       "      <td>2018-01-08</td>\n",
       "      <td>4135505</td>\n",
       "      <td>2755266</td>\n",
       "      <td>2023251</td>\n",
       "      <td>2523265</td>\n",
       "      <td>2622693</td>\n",
       "    </tr>\n",
       "    <tr>\n",
       "      <th>365</th>\n",
       "      <td>2018-01-09</td>\n",
       "      <td>4168506</td>\n",
       "      <td>2791601</td>\n",
       "      <td>2058016</td>\n",
       "      <td>2727678</td>\n",
       "      <td>2627334</td>\n",
       "    </tr>\n",
       "  </tbody>\n",
       "</table>\n",
       "</div>"
      ],
      "text/plain": [
       "          date  shape_of_you  despacito  something_just_like_this   humble  \\\n",
       "361 2018-01-05       4492978    3450315                   2408365  2685857   \n",
       "362 2018-01-06       4416476    3394284                   2188035  2559044   \n",
       "363 2018-01-07       4009104    3020789                   1908129  2350985   \n",
       "364 2018-01-08       4135505    2755266                   2023251  2523265   \n",
       "365 2018-01-09       4168506    2791601                   2058016  2727678   \n",
       "\n",
       "     unforgettable  \n",
       "361        2869783  \n",
       "362        2743748  \n",
       "363        2441045  \n",
       "364        2622693  \n",
       "365        2627334  "
      ]
     },
     "execution_count": 16,
     "metadata": {},
     "output_type": "execute_result"
    }
   ],
   "source": [
    "df.tail()"
   ]
  },
  {
   "cell_type": "markdown",
   "id": "240cfdd9",
   "metadata": {},
   "source": [
    "## Exploratory Data Analysis"
   ]
  },
  {
   "cell_type": "markdown",
   "id": "266aef83",
   "metadata": {},
   "source": [
    "## Questions to answer\n",
    "* What song has the highest average likes overall\n",
    "* what month has the highest likes for the song with overall highest likes\n",
    "* what year has the highest likes on spotify based on given data"
   ]
  },
  {
   "cell_type": "markdown",
   "id": "24be37f1",
   "metadata": {},
   "source": [
    "## 1) What song has the highest average likes overall"
   ]
  },
  {
   "cell_type": "code",
   "execution_count": 17,
   "id": "068654c2",
   "metadata": {},
   "outputs": [
    {
     "data": {
      "text/plain": [
       "shape_of_you                8.180297e+06\n",
       "despacito                   8.990501e+06\n",
       "something_just_like_this    3.787591e+06\n",
       "humble                      3.582633e+06\n",
       "unforgettable               3.522270e+06\n",
       "dtype: float64"
      ]
     },
     "execution_count": 17,
     "metadata": {},
     "output_type": "execute_result"
    }
   ],
   "source": [
    "cols = ['shape_of_you', 'despacito', 'something_just_like_this', 'humble', 'unforgettable']\n",
    "\n",
    "df[cols].mean()"
   ]
  },
  {
   "cell_type": "code",
   "execution_count": 20,
   "id": "d3d2a45a",
   "metadata": {},
   "outputs": [
    {
     "data": {
      "text/html": [
       "<div>\n",
       "<style scoped>\n",
       "    .dataframe tbody tr th:only-of-type {\n",
       "        vertical-align: middle;\n",
       "    }\n",
       "\n",
       "    .dataframe tbody tr th {\n",
       "        vertical-align: top;\n",
       "    }\n",
       "\n",
       "    .dataframe thead th {\n",
       "        text-align: right;\n",
       "    }\n",
       "</style>\n",
       "<table border=\"1\" class=\"dataframe\">\n",
       "  <thead>\n",
       "    <tr style=\"text-align: right;\">\n",
       "      <th></th>\n",
       "      <th>mean_values</th>\n",
       "    </tr>\n",
       "  </thead>\n",
       "  <tbody>\n",
       "    <tr>\n",
       "      <th>shape_of_you</th>\n",
       "      <td>8.180297e+06</td>\n",
       "    </tr>\n",
       "    <tr>\n",
       "      <th>despacito</th>\n",
       "      <td>8.990501e+06</td>\n",
       "    </tr>\n",
       "    <tr>\n",
       "      <th>something_just_like_this</th>\n",
       "      <td>3.787591e+06</td>\n",
       "    </tr>\n",
       "    <tr>\n",
       "      <th>humble</th>\n",
       "      <td>3.582633e+06</td>\n",
       "    </tr>\n",
       "    <tr>\n",
       "      <th>unforgettable</th>\n",
       "      <td>3.522270e+06</td>\n",
       "    </tr>\n",
       "  </tbody>\n",
       "</table>\n",
       "</div>"
      ],
      "text/plain": [
       "                           mean_values\n",
       "shape_of_you              8.180297e+06\n",
       "despacito                 8.990501e+06\n",
       "something_just_like_this  3.787591e+06\n",
       "humble                    3.582633e+06\n",
       "unforgettable             3.522270e+06"
      ]
     },
     "execution_count": 20,
     "metadata": {},
     "output_type": "execute_result"
    }
   ],
   "source": [
    "data_mean = pd.DataFrame(df[cols].mean(), columns=['mean_values'])\n",
    "data_mean"
   ]
  },
  {
   "cell_type": "code",
   "execution_count": 48,
   "id": "16b78a38",
   "metadata": {
    "scrolled": true
   },
   "outputs": [
    {
     "data": {
      "image/png": "[encoded data removed]",
      "text/plain": [
       "<Figure size 432x288 with 1 Axes>"
      ]
     },
     "metadata": {
      "needs_background": "light"
     },
     "output_type": "display_data"
    }
   ],
   "source": [
    "\n",
    "data_mean.plot(kind='bar');"
   ]
  },
  {
   "cell_type": "markdown",
   "id": "9dd3a51c",
   "metadata": {},
   "source": [
    "## Insights\n",
    "* The song despacito has the overall highest number of likes"
   ]
  },
  {
   "cell_type": "markdown",
   "id": "8b49b514",
   "metadata": {},
   "source": [
    "## 2) what month has the highest likes for the song with overall highest likes"
   ]
  },
  {
   "cell_type": "code",
   "execution_count": 34,
   "id": "2dc9afb4",
   "metadata": {},
   "outputs": [
    {
     "data": {
      "text/plain": [
       "date\n",
       "2017-01-31    2.749253e+06\n",
       "2017-02-28    7.224711e+06\n",
       "2017-03-31    6.605704e+06\n",
       "2017-04-30    1.103421e+07\n",
       "2017-05-31    2.032973e+07\n",
       "2017-06-30    1.860881e+07\n",
       "2017-07-31    1.490251e+07\n",
       "2017-08-31    1.027746e+07\n",
       "2017-09-30    6.585799e+06\n",
       "2017-10-31    4.470703e+06\n",
       "2017-11-30    3.249156e+06\n",
       "2017-12-31    3.392184e+06\n",
       "2018-01-31    3.594741e+06\n",
       "Freq: M, Name: despacito, dtype: float64"
      ]
     },
     "execution_count": 34,
     "metadata": {},
     "output_type": "execute_result"
    }
   ],
   "source": [
    "time_col = 'date'\n",
    "time_data= df.resample('M', on =time_col)['despacito'].mean()\n",
    "time_data"
   ]
  },
  {
   "cell_type": "code",
   "execution_count": 35,
   "id": "cb14cc8f",
   "metadata": {},
   "outputs": [
    {
     "data": {
      "text/plain": [
       "Text(0.5, 1.0, 'Despacito Average likes per month')"
      ]
     },
     "execution_count": 35,
     "metadata": {},
     "output_type": "execute_result"
    },
    {
     "data": {
      "image/png": "[encoded data removed]",
      "text/plain": [
       "<Figure size 720x360 with 1 Axes>"
      ]
     },
     "metadata": {
      "needs_background": "light"
     },
     "output_type": "display_data"
    }
   ],
   "source": [
    "fig, ax = plt.subplots(figsize = (10, 5))\n",
    "ax.plot(time_data)\n",
    "plt.title('Despacito Average likes per month')"
   ]
  },
  {
   "cell_type": "markdown",
   "id": "6cfe16eb",
   "metadata": {},
   "source": [
    "##  Insight\n",
    "* June 2017 has the highest likes for the song Despacito which has the average overall higest likes"
   ]
  },
  {
   "cell_type": "markdown",
   "id": "1ccc90f1",
   "metadata": {},
   "source": [
    "## 3) what year has the highest likes on spotify based on given data"
   ]
  },
  {
   "cell_type": "code",
   "execution_count": 38,
   "id": "3e7d0e7a",
   "metadata": {},
   "outputs": [
    {
     "data": {
      "text/html": [
       "<div>\n",
       "<style scoped>\n",
       "    .dataframe tbody tr th:only-of-type {\n",
       "        vertical-align: middle;\n",
       "    }\n",
       "\n",
       "    .dataframe tbody tr th {\n",
       "        vertical-align: top;\n",
       "    }\n",
       "\n",
       "    .dataframe thead th {\n",
       "        text-align: right;\n",
       "    }\n",
       "</style>\n",
       "<table border=\"1\" class=\"dataframe\">\n",
       "  <thead>\n",
       "    <tr style=\"text-align: right;\">\n",
       "      <th></th>\n",
       "      <th>despacito</th>\n",
       "      <th>shape_of_you</th>\n",
       "      <th>something_just_like_this</th>\n",
       "      <th>humble</th>\n",
       "      <th>unforgettable</th>\n",
       "    </tr>\n",
       "    <tr>\n",
       "      <th>date</th>\n",
       "      <th></th>\n",
       "      <th></th>\n",
       "      <th></th>\n",
       "      <th></th>\n",
       "      <th></th>\n",
       "    </tr>\n",
       "  </thead>\n",
       "  <tbody>\n",
       "    <tr>\n",
       "      <th>2017-01-31</th>\n",
       "      <td>2.749253e+06</td>\n",
       "      <td>1.407720e+07</td>\n",
       "      <td>0.000000e+00</td>\n",
       "      <td>0.000000e+00</td>\n",
       "      <td>0.000000e+00</td>\n",
       "    </tr>\n",
       "    <tr>\n",
       "      <th>2017-02-28</th>\n",
       "      <td>7.224711e+06</td>\n",
       "      <td>1.454384e+07</td>\n",
       "      <td>1.698099e+06</td>\n",
       "      <td>0.000000e+00</td>\n",
       "      <td>0.000000e+00</td>\n",
       "    </tr>\n",
       "    <tr>\n",
       "      <th>2017-03-31</th>\n",
       "      <td>6.605704e+06</td>\n",
       "      <td>1.513262e+07</td>\n",
       "      <td>7.910273e+06</td>\n",
       "      <td>1.803770e+05</td>\n",
       "      <td>0.000000e+00</td>\n",
       "    </tr>\n",
       "    <tr>\n",
       "      <th>2017-04-30</th>\n",
       "      <td>1.103421e+07</td>\n",
       "      <td>1.133452e+07</td>\n",
       "      <td>7.693329e+06</td>\n",
       "      <td>9.171518e+06</td>\n",
       "      <td>1.322102e+06</td>\n",
       "    </tr>\n",
       "    <tr>\n",
       "      <th>2017-05-31</th>\n",
       "      <td>2.032973e+07</td>\n",
       "      <td>9.281713e+06</td>\n",
       "      <td>6.205372e+06</td>\n",
       "      <td>8.354521e+06</td>\n",
       "      <td>4.532494e+06</td>\n",
       "    </tr>\n",
       "    <tr>\n",
       "      <th>2017-06-30</th>\n",
       "      <td>1.860881e+07</td>\n",
       "      <td>7.561906e+06</td>\n",
       "      <td>5.040104e+06</td>\n",
       "      <td>6.217389e+06</td>\n",
       "      <td>6.264023e+06</td>\n",
       "    </tr>\n",
       "    <tr>\n",
       "      <th>2017-07-31</th>\n",
       "      <td>1.490251e+07</td>\n",
       "      <td>6.421739e+06</td>\n",
       "      <td>4.283810e+06</td>\n",
       "      <td>4.303651e+06</td>\n",
       "      <td>6.879395e+06</td>\n",
       "    </tr>\n",
       "    <tr>\n",
       "      <th>2017-08-31</th>\n",
       "      <td>1.027746e+07</td>\n",
       "      <td>5.382340e+06</td>\n",
       "      <td>3.402534e+06</td>\n",
       "      <td>3.686944e+06</td>\n",
       "      <td>6.601611e+06</td>\n",
       "    </tr>\n",
       "    <tr>\n",
       "      <th>2017-09-30</th>\n",
       "      <td>6.585799e+06</td>\n",
       "      <td>4.599358e+06</td>\n",
       "      <td>2.727978e+06</td>\n",
       "      <td>3.362585e+06</td>\n",
       "      <td>5.665275e+06</td>\n",
       "    </tr>\n",
       "    <tr>\n",
       "      <th>2017-10-31</th>\n",
       "      <td>4.470703e+06</td>\n",
       "      <td>4.125316e+06</td>\n",
       "      <td>2.291899e+06</td>\n",
       "      <td>2.905829e+06</td>\n",
       "      <td>4.330820e+06</td>\n",
       "    </tr>\n",
       "    <tr>\n",
       "      <th>2017-11-30</th>\n",
       "      <td>3.249156e+06</td>\n",
       "      <td>3.868404e+06</td>\n",
       "      <td>1.992803e+06</td>\n",
       "      <td>2.339266e+06</td>\n",
       "      <td>3.465583e+06</td>\n",
       "    </tr>\n",
       "    <tr>\n",
       "      <th>2017-12-31</th>\n",
       "      <td>3.392184e+06</td>\n",
       "      <td>4.374970e+06</td>\n",
       "      <td>2.121999e+06</td>\n",
       "      <td>2.457830e+06</td>\n",
       "      <td>2.784103e+06</td>\n",
       "    </tr>\n",
       "    <tr>\n",
       "      <th>2018-01-31</th>\n",
       "      <td>3.594741e+06</td>\n",
       "      <td>4.408205e+06</td>\n",
       "      <td>2.204822e+06</td>\n",
       "      <td>2.542640e+06</td>\n",
       "      <td>2.665478e+06</td>\n",
       "    </tr>\n",
       "  </tbody>\n",
       "</table>\n",
       "</div>"
      ],
      "text/plain": [
       "               despacito  shape_of_you  something_just_like_this  \\\n",
       "date                                                               \n",
       "2017-01-31  2.749253e+06  1.407720e+07              0.000000e+00   \n",
       "2017-02-28  7.224711e+06  1.454384e+07              1.698099e+06   \n",
       "2017-03-31  6.605704e+06  1.513262e+07              7.910273e+06   \n",
       "2017-04-30  1.103421e+07  1.133452e+07              7.693329e+06   \n",
       "2017-05-31  2.032973e+07  9.281713e+06              6.205372e+06   \n",
       "2017-06-30  1.860881e+07  7.561906e+06              5.040104e+06   \n",
       "2017-07-31  1.490251e+07  6.421739e+06              4.283810e+06   \n",
       "2017-08-31  1.027746e+07  5.382340e+06              3.402534e+06   \n",
       "2017-09-30  6.585799e+06  4.599358e+06              2.727978e+06   \n",
       "2017-10-31  4.470703e+06  4.125316e+06              2.291899e+06   \n",
       "2017-11-30  3.249156e+06  3.868404e+06              1.992803e+06   \n",
       "2017-12-31  3.392184e+06  4.374970e+06              2.121999e+06   \n",
       "2018-01-31  3.594741e+06  4.408205e+06              2.204822e+06   \n",
       "\n",
       "                  humble  unforgettable  \n",
       "date                                     \n",
       "2017-01-31  0.000000e+00   0.000000e+00  \n",
       "2017-02-28  0.000000e+00   0.000000e+00  \n",
       "2017-03-31  1.803770e+05   0.000000e+00  \n",
       "2017-04-30  9.171518e+06   1.322102e+06  \n",
       "2017-05-31  8.354521e+06   4.532494e+06  \n",
       "2017-06-30  6.217389e+06   6.264023e+06  \n",
       "2017-07-31  4.303651e+06   6.879395e+06  \n",
       "2017-08-31  3.686944e+06   6.601611e+06  \n",
       "2017-09-30  3.362585e+06   5.665275e+06  \n",
       "2017-10-31  2.905829e+06   4.330820e+06  \n",
       "2017-11-30  2.339266e+06   3.465583e+06  \n",
       "2017-12-31  2.457830e+06   2.784103e+06  \n",
       "2018-01-31  2.542640e+06   2.665478e+06  "
      ]
     },
     "execution_count": 38,
     "metadata": {},
     "output_type": "execute_result"
    }
   ],
   "source": [
    "time_col_2 = 'date'\n",
    "time_data_2 = df.resample('M', on =time_col)['despacito','shape_of_you','something_just_like_this', 'humble', 'unforgettable'].mean()\n",
    "time_data_2"
   ]
  },
  {
   "cell_type": "code",
   "execution_count": 49,
   "id": "3946198e",
   "metadata": {},
   "outputs": [
    {
     "ename": "NameError",
     "evalue": "name 'legend' is not defined",
     "output_type": "error",
     "traceback": [
      "\u001b[1;31m---------------------------------------------------------------------------\u001b[0m",
      "\u001b[1;31mNameError\u001b[0m                                 Traceback (most recent call last)",
      "\u001b[1;32m~\\AppData\\Local\\Temp/ipykernel_11236/2514725712.py\u001b[0m in \u001b[0;36m<module>\u001b[1;34m\u001b[0m\n\u001b[0;32m      2\u001b[0m \u001b[0max\u001b[0m\u001b[1;33m.\u001b[0m\u001b[0mplot\u001b[0m\u001b[1;33m(\u001b[0m\u001b[0mtime_data_2\u001b[0m\u001b[1;33m)\u001b[0m\u001b[1;33m\u001b[0m\u001b[1;33m\u001b[0m\u001b[0m\n\u001b[0;32m      3\u001b[0m \u001b[0mplt\u001b[0m\u001b[1;33m.\u001b[0m\u001b[0mtitle\u001b[0m\u001b[1;33m(\u001b[0m\u001b[1;34m'Average likes per month'\u001b[0m\u001b[1;33m)\u001b[0m\u001b[1;33m\u001b[0m\u001b[1;33m\u001b[0m\u001b[0m\n\u001b[1;32m----> 4\u001b[1;33m \u001b[0mlegend\u001b[0m\u001b[1;33m(\u001b[0m\u001b[1;33m)\u001b[0m\u001b[1;33m\u001b[0m\u001b[1;33m\u001b[0m\u001b[0m\n\u001b[0m",
      "\u001b[1;31mNameError\u001b[0m: name 'legend' is not defined"
     ]
    },
    {
     "data": {
      "image/png": "[encoded data removed]",
      "text/plain": [
       "<Figure size 720x360 with 1 Axes>"
      ]
     },
     "metadata": {
      "needs_background": "light"
     },
     "output_type": "display_data"
    }
   ],
   "source": [
    "fig, ax = plt.subplots(figsize = (10, 5))\n",
    "ax.plot(time_data_2)\n",
    "plt.title('Average likes per month')\n",
    "legend()"
   ]
  },
  {
   "cell_type": "markdown",
   "id": "8599d68d",
   "metadata": {},
   "source": [
    "## Insight \n",
    "* based on the data given the year 2017 records more activity "
   ]
  },
  {
   "cell_type": "code",
   "execution_count": null,
   "id": "6bac02f5",
   "metadata": {},
   "outputs": [],
   "source": []
  }
 ],
 "metadata": {
  "kernelspec": {
   "display_name": "Python 3 (ipykernel)",
   "language": "python",
   "name": "python3"
  },
  "language_info": {
   "codemirror_mode": {
    "name": "ipython",
    "version": 3
   },
   "file_extension": ".py",
   "mimetype": "text/x-python",
   "name": "python",
   "nbconvert_exporter": "python",
   "pygments_lexer": "ipython3",
   "version": "3.9.7"
  }
 },
 "nbformat": 4,
 "nbformat_minor": 5
}
