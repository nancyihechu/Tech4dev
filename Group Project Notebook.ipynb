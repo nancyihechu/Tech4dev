{
 "cells": [
  {
   "cell_type": "markdown",
   "id": "352df43b",
   "metadata": {},
   "source": [
    "### Create a report to answer the principal's questions. Include:\n",
    "\n",
    "* What are the average reading scores for students with/without the test preparation course?\n",
    "* What are the average scores for the different parental education levels?\n",
    "\n",
    "### Create plots to visualize findings for questions 1 and 2.\n",
    "#### Optional\n",
    "* Look at the effects within subgroups. Compare the average scores for students with/without the test preparation course for different parental education levels (e.g., faceted plots).\n",
    "\n",
    "#### Optional 2\n",
    "* The principal wants to know if kids who perform well on one subject also score well on the others. Look at the correlations between scores.\n",
    "Summarize your findings."
   ]
  },
  {
   "cell_type": "markdown",
   "id": "ebd144e8",
   "metadata": {},
   "source": [
    "### Importing Libraries"
   ]
  },
  {
   "cell_type": "code",
   "execution_count": 2,
   "id": "3c976d86",
   "metadata": {},
   "outputs": [],
   "source": [
    "import pandas as pd\n",
    "import numpy as np\n",
    "import seaborn as sns\n",
    "import matplotlib as plt"
   ]
  },
  {
   "cell_type": "markdown",
   "id": "c6d7bbb4",
   "metadata": {},
   "source": [
    "### Importing Dataset"
   ]
  },
  {
   "cell_type": "code",
   "execution_count": 3,
   "id": "641e7d82",
   "metadata": {},
   "outputs": [],
   "source": [
    "df =  pd.read_csv('exams.csv')"
   ]
  },
  {
   "cell_type": "markdown",
   "id": "290d805a",
   "metadata": {},
   "source": [
    "### Accessing the Data"
   ]
  },
  {
   "cell_type": "code",
   "execution_count": 4,
   "id": "10dd8231",
   "metadata": {},
   "outputs": [
    {
     "data": {
      "text/html": [
       "<div>\n",
       "<style scoped>\n",
       "    .dataframe tbody tr th:only-of-type {\n",
       "        vertical-align: middle;\n",
       "    }\n",
       "\n",
       "    .dataframe tbody tr th {\n",
       "        vertical-align: top;\n",
       "    }\n",
       "\n",
       "    .dataframe thead th {\n",
       "        text-align: right;\n",
       "    }\n",
       "</style>\n",
       "<table border=\"1\" class=\"dataframe\">\n",
       "  <thead>\n",
       "    <tr style=\"text-align: right;\">\n",
       "      <th></th>\n",
       "      <th>gender</th>\n",
       "      <th>race/ethnicity</th>\n",
       "      <th>parent_education_level</th>\n",
       "      <th>lunch</th>\n",
       "      <th>test_prep_course</th>\n",
       "      <th>math</th>\n",
       "      <th>reading</th>\n",
       "      <th>writing</th>\n",
       "    </tr>\n",
       "  </thead>\n",
       "  <tbody>\n",
       "    <tr>\n",
       "      <th>0</th>\n",
       "      <td>female</td>\n",
       "      <td>group B</td>\n",
       "      <td>bachelor's degree</td>\n",
       "      <td>standard</td>\n",
       "      <td>none</td>\n",
       "      <td>72</td>\n",
       "      <td>72</td>\n",
       "      <td>74</td>\n",
       "    </tr>\n",
       "    <tr>\n",
       "      <th>1</th>\n",
       "      <td>female</td>\n",
       "      <td>group C</td>\n",
       "      <td>some college</td>\n",
       "      <td>standard</td>\n",
       "      <td>completed</td>\n",
       "      <td>69</td>\n",
       "      <td>90</td>\n",
       "      <td>88</td>\n",
       "    </tr>\n",
       "    <tr>\n",
       "      <th>2</th>\n",
       "      <td>female</td>\n",
       "      <td>group B</td>\n",
       "      <td>master's degree</td>\n",
       "      <td>standard</td>\n",
       "      <td>none</td>\n",
       "      <td>90</td>\n",
       "      <td>95</td>\n",
       "      <td>93</td>\n",
       "    </tr>\n",
       "    <tr>\n",
       "      <th>3</th>\n",
       "      <td>male</td>\n",
       "      <td>group A</td>\n",
       "      <td>associate's degree</td>\n",
       "      <td>free/reduced</td>\n",
       "      <td>none</td>\n",
       "      <td>47</td>\n",
       "      <td>57</td>\n",
       "      <td>44</td>\n",
       "    </tr>\n",
       "    <tr>\n",
       "      <th>4</th>\n",
       "      <td>male</td>\n",
       "      <td>group C</td>\n",
       "      <td>some college</td>\n",
       "      <td>standard</td>\n",
       "      <td>none</td>\n",
       "      <td>76</td>\n",
       "      <td>78</td>\n",
       "      <td>75</td>\n",
       "    </tr>\n",
       "  </tbody>\n",
       "</table>\n",
       "</div>"
      ],
      "text/plain": [
       "   gender race/ethnicity parent_education_level         lunch  \\\n",
       "0  female        group B      bachelor's degree      standard   \n",
       "1  female        group C           some college      standard   \n",
       "2  female        group B        master's degree      standard   \n",
       "3    male        group A     associate's degree  free/reduced   \n",
       "4    male        group C           some college      standard   \n",
       "\n",
       "  test_prep_course  math  reading  writing  \n",
       "0             none    72       72       74  \n",
       "1        completed    69       90       88  \n",
       "2             none    90       95       93  \n",
       "3             none    47       57       44  \n",
       "4             none    76       78       75  "
      ]
     },
     "execution_count": 4,
     "metadata": {},
     "output_type": "execute_result"
    }
   ],
   "source": [
    "df.head()"
   ]
  },
  {
   "cell_type": "code",
   "execution_count": 5,
   "id": "57ee3f42",
   "metadata": {},
   "outputs": [
    {
     "name": "stdout",
     "output_type": "stream",
     "text": [
      "<class 'pandas.core.frame.DataFrame'>\n",
      "RangeIndex: 1000 entries, 0 to 999\n",
      "Data columns (total 8 columns):\n",
      " #   Column                  Non-Null Count  Dtype \n",
      "---  ------                  --------------  ----- \n",
      " 0   gender                  1000 non-null   object\n",
      " 1   race/ethnicity          1000 non-null   object\n",
      " 2   parent_education_level  1000 non-null   object\n",
      " 3   lunch                   1000 non-null   object\n",
      " 4   test_prep_course        1000 non-null   object\n",
      " 5   math                    1000 non-null   int64 \n",
      " 6   reading                 1000 non-null   int64 \n",
      " 7   writing                 1000 non-null   int64 \n",
      "dtypes: int64(3), object(5)\n",
      "memory usage: 62.6+ KB\n"
     ]
    }
   ],
   "source": [
    "df.info()"
   ]
  },
  {
   "cell_type": "code",
   "execution_count": 6,
   "id": "e4f3e42c",
   "metadata": {},
   "outputs": [
    {
     "data": {
      "text/plain": [
       "array([\"bachelor's degree\", 'some college', \"master's degree\",\n",
       "       \"associate's degree\", 'high school', 'some high school'],\n",
       "      dtype=object)"
      ]
     },
     "execution_count": 6,
     "metadata": {},
     "output_type": "execute_result"
    }
   ],
   "source": [
    "df.parent_education_level.unique()"
   ]
  },
  {
   "cell_type": "code",
   "execution_count": 7,
   "id": "ee235489",
   "metadata": {},
   "outputs": [
    {
     "data": {
      "text/plain": [
       "array(['group B', 'group C', 'group A', 'group D', 'group E'],\n",
       "      dtype=object)"
      ]
     },
     "execution_count": 7,
     "metadata": {},
     "output_type": "execute_result"
    }
   ],
   "source": [
    "df['race/ethnicity'].unique()"
   ]
  },
  {
   "cell_type": "markdown",
   "id": "5ea975b1",
   "metadata": {},
   "source": [
    "### Conclusion From Data Access\n",
    "* 'High school' and 'some high school' both mean the same in the column parent education level and so should 'High school'\n",
    "* \"some college\" should be changed to just college"
   ]
  },
  {
   "cell_type": "markdown",
   "id": "500ba75b",
   "metadata": {},
   "source": [
    "# Data Cleaning"
   ]
  },
  {
   "cell_type": "markdown",
   "id": "6b74eb73",
   "metadata": {},
   "source": [
    "#### Define\n",
    "* High school' and 'some high school' both mean the same in the column parent education level and so should 'High school'"
   ]
  },
  {
   "cell_type": "markdown",
   "id": "1daf83af",
   "metadata": {},
   "source": [
    "#### Clean"
   ]
  },
  {
   "cell_type": "code",
   "execution_count": 8,
   "id": "c6dc0f5e",
   "metadata": {},
   "outputs": [],
   "source": [
    "df.loc[df.parent_education_level == 'some high school', 'parent_education_level'] = \"high school\"\n"
   ]
  },
  {
   "cell_type": "markdown",
   "id": "98b7e611",
   "metadata": {},
   "source": [
    "#### Recheck"
   ]
  },
  {
   "cell_type": "code",
   "execution_count": 9,
   "id": "4d3d6f95",
   "metadata": {},
   "outputs": [
    {
     "data": {
      "text/plain": [
       "array([\"bachelor's degree\", 'some college', \"master's degree\",\n",
       "       \"associate's degree\", 'high school'], dtype=object)"
      ]
     },
     "execution_count": 9,
     "metadata": {},
     "output_type": "execute_result"
    }
   ],
   "source": [
    "df.parent_education_level.unique()"
   ]
  },
  {
   "cell_type": "markdown",
   "id": "3ad8fb07",
   "metadata": {},
   "source": [
    "#### Define\n",
    "* \"some college\" should be changed to just college"
   ]
  },
  {
   "cell_type": "markdown",
   "id": "4838a5c2",
   "metadata": {},
   "source": [
    "#### Clean"
   ]
  },
  {
   "cell_type": "code",
   "execution_count": 10,
   "id": "0de3f4c5",
   "metadata": {},
   "outputs": [],
   "source": [
    "df.loc[df.parent_education_level == 'some college', 'parent_education_level'] = \"college\""
   ]
  },
  {
   "cell_type": "markdown",
   "id": "bef594fa",
   "metadata": {},
   "source": [
    "#### Recheck"
   ]
  },
  {
   "cell_type": "code",
   "execution_count": 11,
   "id": "01890954",
   "metadata": {},
   "outputs": [
    {
     "data": {
      "text/plain": [
       "array([\"bachelor's degree\", 'college', \"master's degree\",\n",
       "       \"associate's degree\", 'high school'], dtype=object)"
      ]
     },
     "execution_count": 11,
     "metadata": {},
     "output_type": "execute_result"
    }
   ],
   "source": [
    "df.parent_education_level.unique()"
   ]
  },
  {
   "cell_type": "markdown",
   "id": "e480a55b",
   "metadata": {},
   "source": [
    "## Exploratory Data Analysis"
   ]
  },
  {
   "cell_type": "markdown",
   "id": "5ab059d6",
   "metadata": {},
   "source": [
    "### Questions to answer\n",
    "* What are the average reading scores for students with/without the test preparation course?\n",
    "* What are the average scores for the different parental education levels?"
   ]
  },
  {
   "cell_type": "markdown",
   "id": "4d50fda0",
   "metadata": {},
   "source": [
    "### 1) What are the average reading scores for students with/without the test preparation course?"
   ]
  },
  {
   "cell_type": "code",
   "execution_count": 12,
   "id": "75f6494d",
   "metadata": {},
   "outputs": [
    {
     "data": {
      "text/html": [
       "<div>\n",
       "<style scoped>\n",
       "    .dataframe tbody tr th:only-of-type {\n",
       "        vertical-align: middle;\n",
       "    }\n",
       "\n",
       "    .dataframe tbody tr th {\n",
       "        vertical-align: top;\n",
       "    }\n",
       "\n",
       "    .dataframe thead th {\n",
       "        text-align: right;\n",
       "    }\n",
       "</style>\n",
       "<table border=\"1\" class=\"dataframe\">\n",
       "  <thead>\n",
       "    <tr style=\"text-align: right;\">\n",
       "      <th></th>\n",
       "      <th>reading</th>\n",
       "    </tr>\n",
       "    <tr>\n",
       "      <th>test_prep_course</th>\n",
       "      <th></th>\n",
       "    </tr>\n",
       "  </thead>\n",
       "  <tbody>\n",
       "    <tr>\n",
       "      <th>completed</th>\n",
       "      <td>73.893855</td>\n",
       "    </tr>\n",
       "    <tr>\n",
       "      <th>none</th>\n",
       "      <td>66.534268</td>\n",
       "    </tr>\n",
       "  </tbody>\n",
       "</table>\n",
       "</div>"
      ],
      "text/plain": [
       "                    reading\n",
       "test_prep_course           \n",
       "completed         73.893855\n",
       "none              66.534268"
      ]
     },
     "execution_count": 12,
     "metadata": {},
     "output_type": "execute_result"
    }
   ],
   "source": [
    "df.groupby('test_prep_course')[['reading']].mean()"
   ]
  },
  {
   "cell_type": "markdown",
   "id": "409eb919",
   "metadata": {},
   "source": [
    "### Insight/Report\n",
    "* The avrage reading score for students with test preparation course is: 73.893855\n",
    "* The average reading score for students without test preparation course is: 66.534268\n",
    "\n",
    "This suggests that the test preparation course has a positive influence on the student's reading score"
   ]
  },
  {
   "cell_type": "markdown",
   "id": "2631a1ec",
   "metadata": {},
   "source": [
    "### 2) What are the average scores for the different parental education levels?"
   ]
  },
  {
   "cell_type": "code",
   "execution_count": 13,
   "id": "97d96736",
   "metadata": {},
   "outputs": [
    {
     "data": {
      "text/html": [
       "<div>\n",
       "<style scoped>\n",
       "    .dataframe tbody tr th:only-of-type {\n",
       "        vertical-align: middle;\n",
       "    }\n",
       "\n",
       "    .dataframe tbody tr th {\n",
       "        vertical-align: top;\n",
       "    }\n",
       "\n",
       "    .dataframe thead th {\n",
       "        text-align: right;\n",
       "    }\n",
       "</style>\n",
       "<table border=\"1\" class=\"dataframe\">\n",
       "  <thead>\n",
       "    <tr style=\"text-align: right;\">\n",
       "      <th></th>\n",
       "      <th>reading</th>\n",
       "      <th>math</th>\n",
       "      <th>writing</th>\n",
       "    </tr>\n",
       "    <tr>\n",
       "      <th>parent_education_level</th>\n",
       "      <th></th>\n",
       "      <th></th>\n",
       "      <th></th>\n",
       "    </tr>\n",
       "  </thead>\n",
       "  <tbody>\n",
       "    <tr>\n",
       "      <th>associate's degree</th>\n",
       "      <td>70.927928</td>\n",
       "      <td>67.882883</td>\n",
       "      <td>69.896396</td>\n",
       "    </tr>\n",
       "    <tr>\n",
       "      <th>bachelor's degree</th>\n",
       "      <td>73.000000</td>\n",
       "      <td>69.389831</td>\n",
       "      <td>73.381356</td>\n",
       "    </tr>\n",
       "    <tr>\n",
       "      <th>college</th>\n",
       "      <td>69.460177</td>\n",
       "      <td>67.128319</td>\n",
       "      <td>68.840708</td>\n",
       "    </tr>\n",
       "    <tr>\n",
       "      <th>high school</th>\n",
       "      <td>65.770667</td>\n",
       "      <td>62.786667</td>\n",
       "      <td>63.613333</td>\n",
       "    </tr>\n",
       "    <tr>\n",
       "      <th>master's degree</th>\n",
       "      <td>75.372881</td>\n",
       "      <td>69.745763</td>\n",
       "      <td>75.677966</td>\n",
       "    </tr>\n",
       "  </tbody>\n",
       "</table>\n",
       "</div>"
      ],
      "text/plain": [
       "                          reading       math    writing\n",
       "parent_education_level                                 \n",
       "associate's degree      70.927928  67.882883  69.896396\n",
       "bachelor's degree       73.000000  69.389831  73.381356\n",
       "college                 69.460177  67.128319  68.840708\n",
       "high school             65.770667  62.786667  63.613333\n",
       "master's degree         75.372881  69.745763  75.677966"
      ]
     },
     "execution_count": 13,
     "metadata": {},
     "output_type": "execute_result"
    }
   ],
   "source": [
    "df.groupby('parent_education_level')[['reading','math','writing']].mean()"
   ]
  },
  {
   "cell_type": "markdown",
   "id": "0d04798c",
   "metadata": {},
   "source": [
    "# Visualisation"
   ]
  },
  {
   "cell_type": "markdown",
   "id": "84fcafd3",
   "metadata": {},
   "source": [
    "#### What are the average reading scores for students with/without the test preparation course?"
   ]
  },
  {
   "cell_type": "code",
   "execution_count": 14,
   "id": "eaab3991",
   "metadata": {
    "scrolled": true
   },
   "outputs": [
    {
     "data": {
      "image/png": "[encoded data removed]",
      "text/plain": [
       "<Figure size 720x288 with 1 Axes>"
      ]
     },
     "metadata": {
      "needs_background": "light"
     },
     "output_type": "display_data"
    }
   ],
   "source": [
    "data_mean_2= df.groupby('test_prep_course')[['reading']].mean()\n",
    "data_mean_2.plot(kind='bar', figsize = [10, 4]);"
   ]
  },
  {
   "cell_type": "markdown",
   "id": "d7e2d0b7",
   "metadata": {},
   "source": [
    "#### What are the average scores for the different parental education levels?"
   ]
  },
  {
   "cell_type": "code",
   "execution_count": 15,
   "id": "ff75c1d3",
   "metadata": {
    "scrolled": false
   },
   "outputs": [
    {
     "data": {
      "image/png": "[encoded data removed]",
      "text/plain": [
       "<Figure size 720x288 with 1 Axes>"
      ]
     },
     "metadata": {
      "needs_background": "light"
     },
     "output_type": "display_data"
    }
   ],
   "source": [
    "data_mean= df.groupby('parent_education_level')[['reading','math','writing']].mean()\n",
    "data_mean.plot(kind='bar', figsize = [10, 4]);"
   ]
  },
  {
   "cell_type": "code",
   "execution_count": 33,
   "id": "fd6e0c1e",
   "metadata": {},
   "outputs": [
    {
     "data": {
      "text/html": [
       "<div>\n",
       "<style scoped>\n",
       "    .dataframe tbody tr th:only-of-type {\n",
       "        vertical-align: middle;\n",
       "    }\n",
       "\n",
       "    .dataframe tbody tr th {\n",
       "        vertical-align: top;\n",
       "    }\n",
       "\n",
       "    .dataframe thead th {\n",
       "        text-align: right;\n",
       "    }\n",
       "</style>\n",
       "<table border=\"1\" class=\"dataframe\">\n",
       "  <thead>\n",
       "    <tr style=\"text-align: right;\">\n",
       "      <th></th>\n",
       "      <th></th>\n",
       "      <th>reading</th>\n",
       "      <th>math</th>\n",
       "      <th>writing</th>\n",
       "    </tr>\n",
       "    <tr>\n",
       "      <th>parent_education_level</th>\n",
       "      <th>test_prep_course</th>\n",
       "      <th></th>\n",
       "      <th></th>\n",
       "      <th></th>\n",
       "    </tr>\n",
       "  </thead>\n",
       "  <tbody>\n",
       "    <tr>\n",
       "      <th rowspan=\"2\" valign=\"top\">associate's degree</th>\n",
       "      <th>completed</th>\n",
       "      <td>76.170732</td>\n",
       "      <td>71.829268</td>\n",
       "      <td>76.817073</td>\n",
       "    </tr>\n",
       "    <tr>\n",
       "      <th>none</th>\n",
       "      <td>67.857143</td>\n",
       "      <td>65.571429</td>\n",
       "      <td>65.842857</td>\n",
       "    </tr>\n",
       "    <tr>\n",
       "      <th rowspan=\"2\" valign=\"top\">bachelor's degree</th>\n",
       "      <th>completed</th>\n",
       "      <td>76.739130</td>\n",
       "      <td>73.282609</td>\n",
       "      <td>78.695652</td>\n",
       "    </tr>\n",
       "    <tr>\n",
       "      <th>none</th>\n",
       "      <td>70.611111</td>\n",
       "      <td>66.902778</td>\n",
       "      <td>69.986111</td>\n",
       "    </tr>\n",
       "    <tr>\n",
       "      <th rowspan=\"2\" valign=\"top\">college</th>\n",
       "      <th>completed</th>\n",
       "      <td>75.987013</td>\n",
       "      <td>71.454545</td>\n",
       "      <td>76.519481</td>\n",
       "    </tr>\n",
       "    <tr>\n",
       "      <th>none</th>\n",
       "      <td>66.087248</td>\n",
       "      <td>64.892617</td>\n",
       "      <td>64.872483</td>\n",
       "    </tr>\n",
       "    <tr>\n",
       "      <th rowspan=\"2\" valign=\"top\">high school</th>\n",
       "      <th>completed</th>\n",
       "      <td>69.639098</td>\n",
       "      <td>65.984962</td>\n",
       "      <td>69.390977</td>\n",
       "    </tr>\n",
       "    <tr>\n",
       "      <th>none</th>\n",
       "      <td>63.644628</td>\n",
       "      <td>61.028926</td>\n",
       "      <td>60.438017</td>\n",
       "    </tr>\n",
       "    <tr>\n",
       "      <th rowspan=\"2\" valign=\"top\">master's degree</th>\n",
       "      <th>completed</th>\n",
       "      <td>78.250000</td>\n",
       "      <td>70.600000</td>\n",
       "      <td>80.100000</td>\n",
       "    </tr>\n",
       "    <tr>\n",
       "      <th>none</th>\n",
       "      <td>73.897436</td>\n",
       "      <td>69.307692</td>\n",
       "      <td>73.410256</td>\n",
       "    </tr>\n",
       "  </tbody>\n",
       "</table>\n",
       "</div>"
      ],
      "text/plain": [
       "                                           reading       math    writing\n",
       "parent_education_level test_prep_course                                 \n",
       "associate's degree     completed         76.170732  71.829268  76.817073\n",
       "                       none              67.857143  65.571429  65.842857\n",
       "bachelor's degree      completed         76.739130  73.282609  78.695652\n",
       "                       none              70.611111  66.902778  69.986111\n",
       "college                completed         75.987013  71.454545  76.519481\n",
       "                       none              66.087248  64.892617  64.872483\n",
       "high school            completed         69.639098  65.984962  69.390977\n",
       "                       none              63.644628  61.028926  60.438017\n",
       "master's degree        completed         78.250000  70.600000  80.100000\n",
       "                       none              73.897436  69.307692  73.410256"
      ]
     },
     "execution_count": 33,
     "metadata": {},
     "output_type": "execute_result"
    }
   ],
   "source": [
    "df.groupby(['parent_education_level', 'test_prep_course'])[['reading','math','writing']].mean()"
   ]
  },
  {
   "cell_type": "markdown",
   "id": "a11f907f",
   "metadata": {},
   "source": [
    "### Optional 1"
   ]
  },
  {
   "cell_type": "markdown",
   "id": "a329b68d",
   "metadata": {},
   "source": [
    "\n",
    "* Look at the effects within subgroups. Compare the average scores for students with/without the test preparation course for different parental education levels "
   ]
  },
  {
   "cell_type": "code",
   "execution_count": 18,
   "id": "9546f41b",
   "metadata": {},
   "outputs": [
    {
     "data": {
      "image/png": "[encoded data removed]",
      "text/plain": [
       "<Figure size 432x1080 with 10 Axes>"
      ]
     },
     "metadata": {
      "needs_background": "light"
     },
     "output_type": "display_data"
    }
   ],
   "source": [
    "g = sns.FacetGrid(data = df,  col='test_prep_course', row = 'parent_education_level', margin_titles=True)\n",
    "g.map(sns.scatterplot, 'reading', 'math');"
   ]
  },
  {
   "cell_type": "markdown",
   "id": "e8997316",
   "metadata": {},
   "source": [
    "### Insight/Report\n",
    "from the correlation plot above we can see that students who perform well on one subject also tend to score high in other subjects"
   ]
  },
  {
   "cell_type": "code",
   "execution_count": 30,
   "id": "a7ea5c6b",
   "metadata": {},
   "outputs": [
    {
     "data": {
      "text/html": [
       "<div>\n",
       "<style scoped>\n",
       "    .dataframe tbody tr th:only-of-type {\n",
       "        vertical-align: middle;\n",
       "    }\n",
       "\n",
       "    .dataframe tbody tr th {\n",
       "        vertical-align: top;\n",
       "    }\n",
       "\n",
       "    .dataframe thead th {\n",
       "        text-align: right;\n",
       "    }\n",
       "</style>\n",
       "<table border=\"1\" class=\"dataframe\">\n",
       "  <thead>\n",
       "    <tr style=\"text-align: right;\">\n",
       "      <th></th>\n",
       "      <th>gender</th>\n",
       "      <th>race/ethnicity</th>\n",
       "      <th>parent_education_level</th>\n",
       "      <th>lunch</th>\n",
       "      <th>test_prep_course</th>\n",
       "      <th>math</th>\n",
       "      <th>reading</th>\n",
       "      <th>writing</th>\n",
       "    </tr>\n",
       "  </thead>\n",
       "  <tbody>\n",
       "    <tr>\n",
       "      <th>2</th>\n",
       "      <td>female</td>\n",
       "      <td>group B</td>\n",
       "      <td>master's degree</td>\n",
       "      <td>standard</td>\n",
       "      <td>none</td>\n",
       "      <td>90</td>\n",
       "      <td>95</td>\n",
       "      <td>93</td>\n",
       "    </tr>\n",
       "    <tr>\n",
       "      <th>114</th>\n",
       "      <td>female</td>\n",
       "      <td>group E</td>\n",
       "      <td>bachelor's degree</td>\n",
       "      <td>standard</td>\n",
       "      <td>completed</td>\n",
       "      <td>99</td>\n",
       "      <td>100</td>\n",
       "      <td>100</td>\n",
       "    </tr>\n",
       "    <tr>\n",
       "      <th>149</th>\n",
       "      <td>male</td>\n",
       "      <td>group E</td>\n",
       "      <td>associate's degree</td>\n",
       "      <td>free/reduced</td>\n",
       "      <td>completed</td>\n",
       "      <td>100</td>\n",
       "      <td>100</td>\n",
       "      <td>93</td>\n",
       "    </tr>\n",
       "    <tr>\n",
       "      <th>165</th>\n",
       "      <td>female</td>\n",
       "      <td>group C</td>\n",
       "      <td>bachelor's degree</td>\n",
       "      <td>standard</td>\n",
       "      <td>completed</td>\n",
       "      <td>96</td>\n",
       "      <td>100</td>\n",
       "      <td>100</td>\n",
       "    </tr>\n",
       "    <tr>\n",
       "      <th>179</th>\n",
       "      <td>female</td>\n",
       "      <td>group D</td>\n",
       "      <td>high school</td>\n",
       "      <td>standard</td>\n",
       "      <td>completed</td>\n",
       "      <td>97</td>\n",
       "      <td>100</td>\n",
       "      <td>100</td>\n",
       "    </tr>\n",
       "    <tr>\n",
       "      <th>263</th>\n",
       "      <td>female</td>\n",
       "      <td>group E</td>\n",
       "      <td>high school</td>\n",
       "      <td>standard</td>\n",
       "      <td>none</td>\n",
       "      <td>99</td>\n",
       "      <td>93</td>\n",
       "      <td>90</td>\n",
       "    </tr>\n",
       "    <tr>\n",
       "      <th>451</th>\n",
       "      <td>female</td>\n",
       "      <td>group E</td>\n",
       "      <td>college</td>\n",
       "      <td>standard</td>\n",
       "      <td>none</td>\n",
       "      <td>100</td>\n",
       "      <td>92</td>\n",
       "      <td>97</td>\n",
       "    </tr>\n",
       "    <tr>\n",
       "      <th>458</th>\n",
       "      <td>female</td>\n",
       "      <td>group E</td>\n",
       "      <td>bachelor's degree</td>\n",
       "      <td>standard</td>\n",
       "      <td>none</td>\n",
       "      <td>100</td>\n",
       "      <td>100</td>\n",
       "      <td>100</td>\n",
       "    </tr>\n",
       "    <tr>\n",
       "      <th>474</th>\n",
       "      <td>female</td>\n",
       "      <td>group B</td>\n",
       "      <td>associate's degree</td>\n",
       "      <td>standard</td>\n",
       "      <td>completed</td>\n",
       "      <td>90</td>\n",
       "      <td>90</td>\n",
       "      <td>91</td>\n",
       "    </tr>\n",
       "    <tr>\n",
       "      <th>546</th>\n",
       "      <td>female</td>\n",
       "      <td>group A</td>\n",
       "      <td>high school</td>\n",
       "      <td>standard</td>\n",
       "      <td>completed</td>\n",
       "      <td>92</td>\n",
       "      <td>100</td>\n",
       "      <td>97</td>\n",
       "    </tr>\n",
       "    <tr>\n",
       "      <th>562</th>\n",
       "      <td>male</td>\n",
       "      <td>group C</td>\n",
       "      <td>bachelor's degree</td>\n",
       "      <td>standard</td>\n",
       "      <td>completed</td>\n",
       "      <td>96</td>\n",
       "      <td>90</td>\n",
       "      <td>92</td>\n",
       "    </tr>\n",
       "    <tr>\n",
       "      <th>566</th>\n",
       "      <td>female</td>\n",
       "      <td>group E</td>\n",
       "      <td>bachelor's degree</td>\n",
       "      <td>free/reduced</td>\n",
       "      <td>completed</td>\n",
       "      <td>92</td>\n",
       "      <td>100</td>\n",
       "      <td>100</td>\n",
       "    </tr>\n",
       "    <tr>\n",
       "      <th>571</th>\n",
       "      <td>male</td>\n",
       "      <td>group A</td>\n",
       "      <td>bachelor's degree</td>\n",
       "      <td>standard</td>\n",
       "      <td>none</td>\n",
       "      <td>91</td>\n",
       "      <td>96</td>\n",
       "      <td>92</td>\n",
       "    </tr>\n",
       "    <tr>\n",
       "      <th>594</th>\n",
       "      <td>female</td>\n",
       "      <td>group C</td>\n",
       "      <td>bachelor's degree</td>\n",
       "      <td>standard</td>\n",
       "      <td>completed</td>\n",
       "      <td>92</td>\n",
       "      <td>100</td>\n",
       "      <td>99</td>\n",
       "    </tr>\n",
       "    <tr>\n",
       "      <th>612</th>\n",
       "      <td>male</td>\n",
       "      <td>group C</td>\n",
       "      <td>bachelor's degree</td>\n",
       "      <td>standard</td>\n",
       "      <td>completed</td>\n",
       "      <td>94</td>\n",
       "      <td>90</td>\n",
       "      <td>91</td>\n",
       "    </tr>\n",
       "    <tr>\n",
       "      <th>625</th>\n",
       "      <td>male</td>\n",
       "      <td>group D</td>\n",
       "      <td>college</td>\n",
       "      <td>standard</td>\n",
       "      <td>completed</td>\n",
       "      <td>100</td>\n",
       "      <td>97</td>\n",
       "      <td>99</td>\n",
       "    </tr>\n",
       "    <tr>\n",
       "      <th>685</th>\n",
       "      <td>female</td>\n",
       "      <td>group E</td>\n",
       "      <td>master's degree</td>\n",
       "      <td>standard</td>\n",
       "      <td>completed</td>\n",
       "      <td>94</td>\n",
       "      <td>99</td>\n",
       "      <td>100</td>\n",
       "    </tr>\n",
       "    <tr>\n",
       "      <th>712</th>\n",
       "      <td>female</td>\n",
       "      <td>group D</td>\n",
       "      <td>college</td>\n",
       "      <td>standard</td>\n",
       "      <td>none</td>\n",
       "      <td>98</td>\n",
       "      <td>100</td>\n",
       "      <td>99</td>\n",
       "    </tr>\n",
       "    <tr>\n",
       "      <th>717</th>\n",
       "      <td>female</td>\n",
       "      <td>group C</td>\n",
       "      <td>associate's degree</td>\n",
       "      <td>standard</td>\n",
       "      <td>completed</td>\n",
       "      <td>96</td>\n",
       "      <td>96</td>\n",
       "      <td>99</td>\n",
       "    </tr>\n",
       "    <tr>\n",
       "      <th>855</th>\n",
       "      <td>female</td>\n",
       "      <td>group B</td>\n",
       "      <td>bachelor's degree</td>\n",
       "      <td>standard</td>\n",
       "      <td>none</td>\n",
       "      <td>97</td>\n",
       "      <td>97</td>\n",
       "      <td>96</td>\n",
       "    </tr>\n",
       "    <tr>\n",
       "      <th>864</th>\n",
       "      <td>male</td>\n",
       "      <td>group C</td>\n",
       "      <td>associate's degree</td>\n",
       "      <td>standard</td>\n",
       "      <td>none</td>\n",
       "      <td>97</td>\n",
       "      <td>93</td>\n",
       "      <td>91</td>\n",
       "    </tr>\n",
       "    <tr>\n",
       "      <th>886</th>\n",
       "      <td>female</td>\n",
       "      <td>group E</td>\n",
       "      <td>associate's degree</td>\n",
       "      <td>standard</td>\n",
       "      <td>completed</td>\n",
       "      <td>93</td>\n",
       "      <td>100</td>\n",
       "      <td>95</td>\n",
       "    </tr>\n",
       "    <tr>\n",
       "      <th>903</th>\n",
       "      <td>female</td>\n",
       "      <td>group D</td>\n",
       "      <td>bachelor's degree</td>\n",
       "      <td>free/reduced</td>\n",
       "      <td>completed</td>\n",
       "      <td>93</td>\n",
       "      <td>100</td>\n",
       "      <td>100</td>\n",
       "    </tr>\n",
       "    <tr>\n",
       "      <th>916</th>\n",
       "      <td>male</td>\n",
       "      <td>group E</td>\n",
       "      <td>bachelor's degree</td>\n",
       "      <td>standard</td>\n",
       "      <td>completed</td>\n",
       "      <td>100</td>\n",
       "      <td>100</td>\n",
       "      <td>100</td>\n",
       "    </tr>\n",
       "    <tr>\n",
       "      <th>919</th>\n",
       "      <td>male</td>\n",
       "      <td>group B</td>\n",
       "      <td>college</td>\n",
       "      <td>standard</td>\n",
       "      <td>completed</td>\n",
       "      <td>91</td>\n",
       "      <td>96</td>\n",
       "      <td>91</td>\n",
       "    </tr>\n",
       "    <tr>\n",
       "      <th>957</th>\n",
       "      <td>female</td>\n",
       "      <td>group D</td>\n",
       "      <td>master's degree</td>\n",
       "      <td>standard</td>\n",
       "      <td>none</td>\n",
       "      <td>92</td>\n",
       "      <td>100</td>\n",
       "      <td>100</td>\n",
       "    </tr>\n",
       "    <tr>\n",
       "      <th>962</th>\n",
       "      <td>female</td>\n",
       "      <td>group E</td>\n",
       "      <td>associate's degree</td>\n",
       "      <td>standard</td>\n",
       "      <td>none</td>\n",
       "      <td>100</td>\n",
       "      <td>100</td>\n",
       "      <td>100</td>\n",
       "    </tr>\n",
       "    <tr>\n",
       "      <th>979</th>\n",
       "      <td>female</td>\n",
       "      <td>group C</td>\n",
       "      <td>associate's degree</td>\n",
       "      <td>standard</td>\n",
       "      <td>none</td>\n",
       "      <td>91</td>\n",
       "      <td>95</td>\n",
       "      <td>94</td>\n",
       "    </tr>\n",
       "  </tbody>\n",
       "</table>\n",
       "</div>"
      ],
      "text/plain": [
       "     gender race/ethnicity parent_education_level         lunch  \\\n",
       "2    female        group B        master's degree      standard   \n",
       "114  female        group E      bachelor's degree      standard   \n",
       "149    male        group E     associate's degree  free/reduced   \n",
       "165  female        group C      bachelor's degree      standard   \n",
       "179  female        group D            high school      standard   \n",
       "263  female        group E            high school      standard   \n",
       "451  female        group E                college      standard   \n",
       "458  female        group E      bachelor's degree      standard   \n",
       "474  female        group B     associate's degree      standard   \n",
       "546  female        group A            high school      standard   \n",
       "562    male        group C      bachelor's degree      standard   \n",
       "566  female        group E      bachelor's degree  free/reduced   \n",
       "571    male        group A      bachelor's degree      standard   \n",
       "594  female        group C      bachelor's degree      standard   \n",
       "612    male        group C      bachelor's degree      standard   \n",
       "625    male        group D                college      standard   \n",
       "685  female        group E        master's degree      standard   \n",
       "712  female        group D                college      standard   \n",
       "717  female        group C     associate's degree      standard   \n",
       "855  female        group B      bachelor's degree      standard   \n",
       "864    male        group C     associate's degree      standard   \n",
       "886  female        group E     associate's degree      standard   \n",
       "903  female        group D      bachelor's degree  free/reduced   \n",
       "916    male        group E      bachelor's degree      standard   \n",
       "919    male        group B                college      standard   \n",
       "957  female        group D        master's degree      standard   \n",
       "962  female        group E     associate's degree      standard   \n",
       "979  female        group C     associate's degree      standard   \n",
       "\n",
       "    test_prep_course  math  reading  writing  \n",
       "2               none    90       95       93  \n",
       "114        completed    99      100      100  \n",
       "149        completed   100      100       93  \n",
       "165        completed    96      100      100  \n",
       "179        completed    97      100      100  \n",
       "263             none    99       93       90  \n",
       "451             none   100       92       97  \n",
       "458             none   100      100      100  \n",
       "474        completed    90       90       91  \n",
       "546        completed    92      100       97  \n",
       "562        completed    96       90       92  \n",
       "566        completed    92      100      100  \n",
       "571             none    91       96       92  \n",
       "594        completed    92      100       99  \n",
       "612        completed    94       90       91  \n",
       "625        completed   100       97       99  \n",
       "685        completed    94       99      100  \n",
       "712             none    98      100       99  \n",
       "717        completed    96       96       99  \n",
       "855             none    97       97       96  \n",
       "864             none    97       93       91  \n",
       "886        completed    93      100       95  \n",
       "903        completed    93      100      100  \n",
       "916        completed   100      100      100  \n",
       "919        completed    91       96       91  \n",
       "957             none    92      100      100  \n",
       "962             none   100      100      100  \n",
       "979             none    91       95       94  "
      ]
     },
     "execution_count": 30,
     "metadata": {},
     "output_type": "execute_result"
    }
   ],
   "source": [
    "df[(df.math >= 90) & (df.reading >= 90) & (df.writing >= 90)]"
   ]
  },
  {
   "cell_type": "code",
   "execution_count": null,
   "id": "5db80bd2",
   "metadata": {},
   "outputs": [],
   "source": []
  },
  {
   "cell_type": "code",
   "execution_count": null,
   "id": "ce2db89f",
   "metadata": {},
   "outputs": [],
   "source": []
  },
  {
   "cell_type": "code",
   "execution_count": null,
   "id": "d6c29e93",
   "metadata": {},
   "outputs": [],
   "source": []
  },
  {
   "cell_type": "code",
   "execution_count": null,
   "id": "aaaab6ff",
   "metadata": {},
   "outputs": [],
   "source": []
  },
  {
   "cell_type": "code",
   "execution_count": null,
   "id": "a6eb86f6",
   "metadata": {},
   "outputs": [],
   "source": []
  },
  {
   "cell_type": "code",
   "execution_count": null,
   "id": "83216014",
   "metadata": {},
   "outputs": [],
   "source": []
  },
  {
   "cell_type": "code",
   "execution_count": null,
   "id": "02c51616",
   "metadata": {},
   "outputs": [],
   "source": []
  },
  {
   "cell_type": "code",
   "execution_count": null,
   "id": "523c8036",
   "metadata": {},
   "outputs": [],
   "source": []
  },
  {
   "cell_type": "code",
   "execution_count": null,
   "id": "ddf9e11f",
   "metadata": {},
   "outputs": [],
   "source": []
  },
  {
   "cell_type": "code",
   "execution_count": null,
   "id": "b575d9ba",
   "metadata": {},
   "outputs": [],
   "source": []
  }
 ],
 "metadata": {
  "kernelspec": {
   "display_name": "Python 3 (ipykernel)",
   "language": "python",
   "name": "python3"
  },
  "language_info": {
   "codemirror_mode": {
    "name": "ipython",
    "version": 3
   },
   "file_extension": ".py",
   "mimetype": "text/x-python",
   "name": "python",
   "nbconvert_exporter": "python",
   "pygments_lexer": "ipython3",
   "version": "3.9.7"
  }
 },
 "nbformat": 4,
 "nbformat_minor": 5
}
